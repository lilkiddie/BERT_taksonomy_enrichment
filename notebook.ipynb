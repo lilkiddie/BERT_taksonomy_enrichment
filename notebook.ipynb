{
 "cells": [
  {
   "cell_type": "code",
   "execution_count": null,
   "id": "f4b18719",
   "metadata": {},
   "outputs": [],
   "source": [
    "!pip install pymorphy2\n",
    "!pip install razdel"
   ]
  },
  {
   "cell_type": "code",
   "execution_count": null,
   "id": "594b298c",
   "metadata": {},
   "outputs": [],
   "source": [
    "import pickle\n",
    "import numpy as np\n",
    "import pandas as pd\n",
    "import pymorphy2\n",
    "from razdel import sentenize\n",
    "from razdel import tokenize\n",
    "import torch\n",
    "from transformers import AutoTokenizer, AutoModel\n",
    "import re\n",
    "import gc\n",
    "import tqdm"
   ]
  },
  {
   "cell_type": "code",
   "execution_count": null,
   "id": "5b3aedcf",
   "metadata": {},
   "outputs": [],
   "source": [
    "tokenizer = AutoTokenizer.from_pretrained(\"cointegrated/rubert-tiny\")\n",
    "model = AutoModel.from_pretrained(\"cointegrated/rubert-tiny\", output_hidden_states = True)\n",
    "model.eval()"
   ]
  },
  {
   "cell_type": "code",
   "execution_count": null,
   "id": "863638cd",
   "metadata": {},
   "outputs": [],
   "source": [
    "df = pd.read_csv(\"/kaggle/input/newsdataset1csv/1.csv\")\n",
    "df.dropna(inplace=True)"
   ]
  },
  {
   "cell_type": "code",
   "execution_count": null,
   "id": "9084215a",
   "metadata": {},
   "outputs": [],
   "source": [
    "pm = pymorphy2.MorphAnalyzer()"
   ]
  },
  {
   "cell_type": "code",
   "execution_count": null,
   "id": "4d453d10",
   "metadata": {},
   "outputs": [],
   "source": [
    "with open('/kaggle/input/ws353-full/ws353_full.pkl', 'rb') as f:\n",
    "    ws_full = pickle.load(f)"
   ]
  },
  {
   "cell_type": "code",
   "execution_count": null,
   "id": "1afef620",
   "metadata": {},
   "outputs": [],
   "source": [
    "contexts = {}"
   ]
  },
  {
   "cell_type": "code",
   "execution_count": null,
   "id": "40513cfb",
   "metadata": {},
   "outputs": [],
   "source": [
    "from numpy.random import default_rng\n",
    "rng = default_rng()"
   ]
  },
  {
   "cell_type": "code",
   "execution_count": null,
   "id": "0f0ac4a3",
   "metadata": {},
   "outputs": [],
   "source": [
    "model.to('cuda')\n",
    "\n",
    "max_len = 90\n",
    "n_contexts = 50\n",
    "print(f'Number of contexts = {n_contexts}')\n",
    "i = 1\n",
    "\n",
    "for key, value in tqdm.tqdm(ws_full.items()):\n",
    "    print(f'Iteration {i} / {len(ws_full)}')\n",
    "    i += 1    \n",
    "    vector = [] # здесь будут храниться эмбеддинги, то есть его размер будет (n_contexts, 312)\n",
    "    n = 0\n",
    "    size = n_contexts if n_contexts <= len(value) else len(value)\n",
    "    indices = rng.choice(len(value), size, replace=False)\n",
    "    batch = []\n",
    "    words = []\n",
    "    for index in indices:\n",
    "        idx, n_sent, w_idx = value[index]\n",
    "        if n >= n_contexts:\n",
    "            break\n",
    "        n += 1\n",
    "        string_to_parse = df.iloc[idx].values[1]\n",
    "        string_to_parse = re.sub(' *\\n\\n *', '. ', string_to_parse)\n",
    "        new_str = re.sub(' +|\\n *\\n| *\\xa0| *\\n', ' ', string_to_parse)\n",
    "        sent = list(sentenize(new_str))[n_sent]\n",
    "        batch.append(sent.text)\n",
    "        words.append(list(tokenize(sent.text.lower()))[w_idx])\n",
    "    with torch.no_grad():\n",
    "        d = tokenizer(batch, return_offsets_mapping=True, return_tensors='pt', return_attention_mask=False,\n",
    "                          return_token_type_ids=False, padding=True, truncation=True, max_length=80)\n",
    "        offset_mapping = d.pop('offset_mapping')\n",
    "        input_ids = d['input_ids'].to('cuda')\n",
    "        sent_vec = model(input_ids).hidden_states\n",
    "        layers = torch.tensor(np.array([i.to('cpu').numpy() for i in sent_vec[1:]]), dtype=torch.float32)\n",
    "#         layers = torch.stack(sent_vec)[1:]\n",
    "        for k in range(layers.shape[1]):\n",
    "            start = np.where(offset_mapping[k, :, 0] == words[k].start)[0]\n",
    "            if (start.shape[0] == 0):\n",
    "                continue\n",
    "            start = start[0]\n",
    "            stop = np.where(offset_mapping[k, :, 1] == words[k].stop)[0]\n",
    "            if (stop.shape[0] == 0):\n",
    "                continue\n",
    "            stop = stop[0]\n",
    "            vector.append(layers[:, k, start:stop+1, :].mean(axis=1))\n",
    "    vector = torch.stack(vector)\n",
    "    idxs = rng.choice(vector.shape[0], min(n_contexts, vector.shape[0]), replace=False)\n",
    "    contexts[key] = vector[idxs].mean(axis=0)"
   ]
  }
 ],
 "metadata": {
  "hide_input": false,
  "kernelspec": {
   "display_name": "Python 3 (ipykernel)",
   "language": "python",
   "name": "python3"
  },
  "language_info": {
   "codemirror_mode": {
    "name": "ipython",
    "version": 3
   },
   "file_extension": ".py",
   "mimetype": "text/x-python",
   "name": "python",
   "nbconvert_exporter": "python",
   "pygments_lexer": "ipython3",
   "version": "3.10.2"
  },
  "toc": {
   "base_numbering": 1,
   "nav_menu": {},
   "number_sections": true,
   "sideBar": true,
   "skip_h1_title": false,
   "title_cell": "Table of Contents",
   "title_sidebar": "Contents",
   "toc_cell": false,
   "toc_position": {},
   "toc_section_display": true,
   "toc_window_display": false
  }
 },
 "nbformat": 4,
 "nbformat_minor": 5
}
