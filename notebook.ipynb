{
 "cells": [
  {
   "cell_type": "code",
   "execution_count": null,
   "id": "dd4f5178",
   "metadata": {},
   "outputs": [],
   "source": [
    "!pip install pymorphy2\n",
    "!pip install razdel"
   ]
  },
  {
   "cell_type": "code",
   "execution_count": 1,
   "id": "b3099edc",
   "metadata": {},
   "outputs": [],
   "source": [
    "import pickle\n",
    "import numpy as np\n",
    "import pandas as pd\n",
    "import pymorphy2\n",
    "from razdel import sentenize\n",
    "from razdel import tokenize\n",
    "import torch\n",
    "from transformers import AutoTokenizer, AutoModel\n",
    "import re\n",
    "import gc\n",
    "import tqdm"
   ]
  },
  {
   "cell_type": "code",
   "execution_count": 5,
   "id": "566a0fb7",
   "metadata": {},
   "outputs": [],
   "source": [
    "with open(\"ru_vocab_single_words.txt\", encoding='utf-8') as f:\n",
    "    lst = eval(f.read())"
   ]
  },
  {
   "cell_type": "code",
   "execution_count": 12,
   "id": "fd55831f",
   "metadata": {},
   "outputs": [
    {
     "data": {
      "text/plain": [
       "73834"
      ]
     },
     "execution_count": 12,
     "metadata": {},
     "output_type": "execute_result"
    }
   ],
   "source": [
    "len(lst)"
   ]
  },
  {
   "cell_type": "code",
   "execution_count": null,
   "id": "7a7dbea5",
   "metadata": {},
   "outputs": [],
   "source": [
    "tokenizer = AutoTokenizer.from_pretrained(\"sberbank-ai/ruRoberta-large\")\n",
    "model = AutoModel.from_pretrained(\"sberbank-ai/ruRoberta-large\", output_hidden_states=True)\n",
    "model.eval()"
   ]
  },
  {
   "cell_type": "code",
   "execution_count": null,
   "id": "ddd6c9dc",
   "metadata": {},
   "outputs": [],
   "source": [
    "with open(\"/kaggle/input/wordstobuild/vocab.pkl\", 'rb') as f:\n",
    "    df = pickle.load(f)"
   ]
  },
  {
   "cell_type": "code",
   "execution_count": null,
   "id": "803a26f4",
   "metadata": {},
   "outputs": [],
   "source": [
    "pm = pymorphy2.MorphAnalyzer()"
   ]
  },
  {
   "cell_type": "code",
   "execution_count": null,
   "id": "65e84cd1",
   "metadata": {},
   "outputs": [],
   "source": [
    "contexts = {}"
   ]
  },
  {
   "cell_type": "code",
   "execution_count": null,
   "id": "ad22fcc7",
   "metadata": {},
   "outputs": [],
   "source": [
    "from numpy.random import default_rng\n",
    "rng = default_rng()"
   ]
  },
  {
   "cell_type": "code",
   "execution_count": null,
   "id": "893f48d4",
   "metadata": {},
   "outputs": [],
   "source": [
    "model.to('cuda')\n",
    "\n",
    "max_len = 90\n",
    "n_contexts = 50\n",
    "i = 1\n",
    "\n",
    "for key, value in tqdm.tqdm(df.items()):\n",
    "#     print(f'Iteration {i} / {len(ws_full)}')\n",
    "    i += 1    \n",
    "    vector = [] # здесь будут храниться эмбеддинги, то есть его размер будет (n_contexts, 312)\n",
    "    n = 0\n",
    "    size = n_contexts if n_contexts <= len(value) else len(value)\n",
    "    indices = rng.choice(len(value), size, replace=False)\n",
    "    batch = [i[0] for i in value]\n",
    "    words = [list(tokenize(i[0].lower()))[i[1]] for i in value]\n",
    "    with torch.no_grad():\n",
    "        d = tokenizer(batch, return_offsets_mapping=True, return_tensors='pt', return_attention_mask=False,\n",
    "                          return_token_type_ids=False, padding=True, truncation=True, max_length=90)\n",
    "        offset_mapping = d.pop('offset_mapping')\n",
    "        input_ids = d['input_ids'].to('cuda')\n",
    "        sent_vec = model(input_ids).hidden_states[5].to('cpu')\n",
    "        for k in range(sent_vec.shape[0]):\n",
    "            start = np.where(offset_mapping[k, :, 0] == words[k].start)[0]\n",
    "            if (start.shape[0] == 0):\n",
    "                continue\n",
    "            start = start[0]\n",
    "            stop = np.where(offset_mapping[k, :, 1] == words[k].stop)[0]\n",
    "            if (stop.shape[0] == 0):\n",
    "                continue\n",
    "            stop = stop[0]\n",
    "            vector.append(sent_vec[k, start:stop+1, :].mean(axis=0))\n",
    "        if (len(vector) == 0):\n",
    "            continue\n",
    "        vector = torch.stack(vector)b\n",
    "        \n",
    "        contexts[key] = vector.mean(axis=0)"
   ]
  }
 ],
 "metadata": {
  "hide_input": false,
  "kernelspec": {
   "display_name": "Python 3 (ipykernel)",
   "language": "python",
   "name": "python3"
  },
  "language_info": {
   "codemirror_mode": {
    "name": "ipython",
    "version": 3
   },
   "file_extension": ".py",
   "mimetype": "text/x-python",
   "name": "python",
   "nbconvert_exporter": "python",
   "pygments_lexer": "ipython3",
   "version": "3.10.2"
  },
  "toc": {
   "base_numbering": 1,
   "nav_menu": {},
   "number_sections": true,
   "sideBar": true,
   "skip_h1_title": false,
   "title_cell": "Table of Contents",
   "title_sidebar": "Contents",
   "toc_cell": false,
   "toc_position": {},
   "toc_section_display": true,
   "toc_window_display": false
  }
 },
 "nbformat": 4,
 "nbformat_minor": 5
}
