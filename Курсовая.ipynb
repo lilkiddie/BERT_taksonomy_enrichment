{
  "cells": [
    {
      "cell_type": "code",
      "execution_count": null,
      "metadata": {
        "id": "C9YphokyD3k5"
      },
      "outputs": [],
      "source": [
        "!pip install py7zr\n",
        "!pip install pymorphy2\n",
        "!pip install nltk\n",
        "!pip install razdel\n",
        "!pip install transformers"
      ]
    },
    {
      "cell_type": "code",
      "source": [
        "from transformers import AutoTokenizer, AutoModelForMaskedLM, AutoModelForPreTraining\n",
        "import numpy as np\n",
        "import pandas as pd\n",
        "import pymorphy2\n",
        "from razdel import sentenize\n",
        "import nltk\n",
        "import py7zr\n",
        "from razdel import tokenize\n",
        "from nltk import sent_tokenize\n",
        "from tqdm import tqdm\n",
        "from nltk.corpus import stopwords\n",
        "import re"
      ],
      "metadata": {
        "id": "Ce3exXmXxfYd"
      },
      "execution_count": 3,
      "outputs": []
    },
    {
      "cell_type": "code",
      "source": [
        "with py7zr.SevenZipFile('/content/drive/MyDrive/dataset/news2017.7z', mode='r') as z:\n",
        "    z.extract(targets='news2017/1.csv')"
      ],
      "metadata": {
        "id": "AZXZVtgJxn32"
      },
      "execution_count": 5,
      "outputs": []
    },
    {
      "cell_type": "code",
      "source": [
        "tokenizer = AutoTokenizer.from_pretrained(\"xlm-roberta-base\")\n",
        "model = AutoModelForMaskedLM.from_pretrained(\"xlm-roberta-base\")"
      ],
      "metadata": {
        "id": "_kUNB7xqEtDy"
      },
      "execution_count": 4,
      "outputs": []
    },
    {
      "cell_type": "code",
      "execution_count": 5,
      "metadata": {
        "id": "q9aSBb647vAW"
      },
      "outputs": [],
      "source": [
        "df = pd.read_csv(\"/content/news2017/1.csv\")"
      ]
    },
    {
      "cell_type": "code",
      "source": [
        "df.dropna(inplace=True)"
      ],
      "metadata": {
        "id": "3-9nwan65rcz"
      },
      "execution_count": 6,
      "outputs": []
    },
    {
      "cell_type": "code",
      "source": [
        "stopwords = stopwords.words('russian')"
      ],
      "metadata": {
        "id": "DBT61MgK7d1a"
      },
      "execution_count": 7,
      "outputs": []
    },
    {
      "cell_type": "code",
      "source": [
        "vocabulary = {}\n",
        "cache = {}\n",
        "banned_tags = {\"NPRO\", \"PRED\", \"PREP\",\"CONJ\", \"PRCL\", \"INTJ\", \"PNCT\", \"UNKN\", \"NUMB\"}\n",
        "analyzer = pymorphy2.MorphAnalyzer()\n",
        "for idx in tqdm(range(df.shape[0])):\n",
        "    if (idx == 10):\n",
        "        break\n",
        "    string_to_parse = df.iloc[idx].values[1]\n",
        "    string_to_parse = re.sub(' *\\n\\n *', '. ', string_to_parse)\n",
        "    new_str = re.sub(' +|\\n *\\n| *\\xa0| *\\n', ' ', string_to_parse)\n",
        "    sents = sentenize(new_str)\n",
        "    for sent in sents:\n",
        "        d = tokenizer(sent.text, return_offsets_mapping=True, return_tensors='pt')\n",
        "        offset_mapping = d.pop('offset_mapping').detach().numpy()[0]\n",
        "        sent_vect = model(**d)[0].detach().numpy()[0]\n",
        "        words = tokenize(sent.text.lower())\n",
        "        # старт и стоп отвечают за позиции токенов рассматриваемого слова\n",
        "        start = 1\n",
        "        for word in words:\n",
        "            w = word.text\n",
        "            while start < len(offset_mapping) - 1 and offset_mapping[start][0] != word.start:\n",
        "                start += 1\n",
        "            stop = start\n",
        "            while stop < len(offset_mapping) - 1 and offset_mapping[stop][1] != word.stop:\n",
        "                stop += 1\n",
        "            if w not in cache:\n",
        "                pm_info = analyzer.parse(w)[0]\n",
        "                cache[w] = pm_info\n",
        "                w_syn = pm_info\n",
        "            else:\n",
        "                w_syn = cache[w]\n",
        "            if str(w_syn.tag).split(',')[0] not in banned_tags:\n",
        "                normal_form = w_syn.normal_form\n",
        "                if normal_form not in stopwords:\n",
        "                    if normal_form not in vocabulary:\n",
        "                        vocabulary[normal_form] = []\n",
        "                    vocabulary[normal_form].append(sent_vect[start:stop+1].mean(axis=0))\n",
        "            start = stop\n"
      ],
      "metadata": {
        "colab": {
          "base_uri": "https://localhost:8080/"
        },
        "id": "86i4uIch5-6M",
        "outputId": "3fc0ba1e-63d5-4337-ddbb-888ac08dd0b3"
      },
      "execution_count": 14,
      "outputs": [
        {
          "output_type": "stream",
          "name": "stderr",
          "text": [
            "  0%|          | 10/655988 [01:03<1160:49:44,  6.37s/it]\n"
          ]
        }
      ]
    },
    {
      "cell_type": "code",
      "source": [
        "tokenizer_s = AutoTokenizer.from_pretrained(\"cointegrated/rubert-tiny\")\n",
        "model_s = AutoModelForPreTraining.from_pretrained(\"cointegrated/rubert-tiny\")"
      ],
      "metadata": {
        "colab": {
          "base_uri": "https://localhost:8080/",
          "height": 49,
          "referenced_widgets": [
            "eb8ddb44356b4febb8d3752e3f5559e4",
            "a98bb818f81e4ae29fe47629363cd37b",
            "dd997d0014d84b2cae8195442657ebb0",
            "8dc84fe4c35e4b8ebf8d71b315b9b18d",
            "e3ed7035005e4a71bbaf6a2daab03c75",
            "47e8d4065dec4e85964dd8eb6e1047ce",
            "3e96d6e736444f4b9488d1291e5ed21e",
            "00853c49f7d04a188c2e3181faf67181",
            "86a427b4943c4dffa7c16c9160238187",
            "6c1f0fcc63104718b37a0e54da81a311",
            "36f0b0b444ee4b9983113d779ab5c130"
          ]
        },
        "id": "YTvnGXLryioJ",
        "outputId": "48dd3249-278c-4f73-a20f-dde994b4346b"
      },
      "execution_count": 8,
      "outputs": [
        {
          "output_type": "display_data",
          "data": {
            "text/plain": [
              "Downloading (…)\"pytorch_model.bin\";:   0%|          | 0.00/47.7M [00:00<?, ?B/s]"
            ],
            "application/vnd.jupyter.widget-view+json": {
              "version_major": 2,
              "version_minor": 0,
              "model_id": "eb8ddb44356b4febb8d3752e3f5559e4"
            }
          },
          "metadata": {}
        }
      ]
    }
  ],
  "metadata": {
    "colab": {
      "provenance": []
    },
    "kernelspec": {
      "display_name": "Python 3",
      "name": "python3"
    },
    "language_info": {
      "name": "python"
    },
    "widgets": {
      "application/vnd.jupyter.widget-state+json": {
        "eb8ddb44356b4febb8d3752e3f5559e4": {
          "model_module": "@jupyter-widgets/controls",
          "model_name": "HBoxModel",
          "model_module_version": "1.5.0",
          "state": {
            "_dom_classes": [],
            "_model_module": "@jupyter-widgets/controls",
            "_model_module_version": "1.5.0",
            "_model_name": "HBoxModel",
            "_view_count": null,
            "_view_module": "@jupyter-widgets/controls",
            "_view_module_version": "1.5.0",
            "_view_name": "HBoxView",
            "box_style": "",
            "children": [
              "IPY_MODEL_a98bb818f81e4ae29fe47629363cd37b",
              "IPY_MODEL_dd997d0014d84b2cae8195442657ebb0",
              "IPY_MODEL_8dc84fe4c35e4b8ebf8d71b315b9b18d"
            ],
            "layout": "IPY_MODEL_e3ed7035005e4a71bbaf6a2daab03c75"
          }
        },
        "a98bb818f81e4ae29fe47629363cd37b": {
          "model_module": "@jupyter-widgets/controls",
          "model_name": "HTMLModel",
          "model_module_version": "1.5.0",
          "state": {
            "_dom_classes": [],
            "_model_module": "@jupyter-widgets/controls",
            "_model_module_version": "1.5.0",
            "_model_name": "HTMLModel",
            "_view_count": null,
            "_view_module": "@jupyter-widgets/controls",
            "_view_module_version": "1.5.0",
            "_view_name": "HTMLView",
            "description": "",
            "description_tooltip": null,
            "layout": "IPY_MODEL_47e8d4065dec4e85964dd8eb6e1047ce",
            "placeholder": "​",
            "style": "IPY_MODEL_3e96d6e736444f4b9488d1291e5ed21e",
            "value": "Downloading (…)&quot;pytorch_model.bin&quot;;: 100%"
          }
        },
        "dd997d0014d84b2cae8195442657ebb0": {
          "model_module": "@jupyter-widgets/controls",
          "model_name": "FloatProgressModel",
          "model_module_version": "1.5.0",
          "state": {
            "_dom_classes": [],
            "_model_module": "@jupyter-widgets/controls",
            "_model_module_version": "1.5.0",
            "_model_name": "FloatProgressModel",
            "_view_count": null,
            "_view_module": "@jupyter-widgets/controls",
            "_view_module_version": "1.5.0",
            "_view_name": "ProgressView",
            "bar_style": "success",
            "description": "",
            "description_tooltip": null,
            "layout": "IPY_MODEL_00853c49f7d04a188c2e3181faf67181",
            "max": 47679974,
            "min": 0,
            "orientation": "horizontal",
            "style": "IPY_MODEL_86a427b4943c4dffa7c16c9160238187",
            "value": 47679974
          }
        },
        "8dc84fe4c35e4b8ebf8d71b315b9b18d": {
          "model_module": "@jupyter-widgets/controls",
          "model_name": "HTMLModel",
          "model_module_version": "1.5.0",
          "state": {
            "_dom_classes": [],
            "_model_module": "@jupyter-widgets/controls",
            "_model_module_version": "1.5.0",
            "_model_name": "HTMLModel",
            "_view_count": null,
            "_view_module": "@jupyter-widgets/controls",
            "_view_module_version": "1.5.0",
            "_view_name": "HTMLView",
            "description": "",
            "description_tooltip": null,
            "layout": "IPY_MODEL_6c1f0fcc63104718b37a0e54da81a311",
            "placeholder": "​",
            "style": "IPY_MODEL_36f0b0b444ee4b9983113d779ab5c130",
            "value": " 47.7M/47.7M [00:01&lt;00:00, 48.1MB/s]"
          }
        },
        "e3ed7035005e4a71bbaf6a2daab03c75": {
          "model_module": "@jupyter-widgets/base",
          "model_name": "LayoutModel",
          "model_module_version": "1.2.0",
          "state": {
            "_model_module": "@jupyter-widgets/base",
            "_model_module_version": "1.2.0",
            "_model_name": "LayoutModel",
            "_view_count": null,
            "_view_module": "@jupyter-widgets/base",
            "_view_module_version": "1.2.0",
            "_view_name": "LayoutView",
            "align_content": null,
            "align_items": null,
            "align_self": null,
            "border": null,
            "bottom": null,
            "display": null,
            "flex": null,
            "flex_flow": null,
            "grid_area": null,
            "grid_auto_columns": null,
            "grid_auto_flow": null,
            "grid_auto_rows": null,
            "grid_column": null,
            "grid_gap": null,
            "grid_row": null,
            "grid_template_areas": null,
            "grid_template_columns": null,
            "grid_template_rows": null,
            "height": null,
            "justify_content": null,
            "justify_items": null,
            "left": null,
            "margin": null,
            "max_height": null,
            "max_width": null,
            "min_height": null,
            "min_width": null,
            "object_fit": null,
            "object_position": null,
            "order": null,
            "overflow": null,
            "overflow_x": null,
            "overflow_y": null,
            "padding": null,
            "right": null,
            "top": null,
            "visibility": null,
            "width": null
          }
        },
        "47e8d4065dec4e85964dd8eb6e1047ce": {
          "model_module": "@jupyter-widgets/base",
          "model_name": "LayoutModel",
          "model_module_version": "1.2.0",
          "state": {
            "_model_module": "@jupyter-widgets/base",
            "_model_module_version": "1.2.0",
            "_model_name": "LayoutModel",
            "_view_count": null,
            "_view_module": "@jupyter-widgets/base",
            "_view_module_version": "1.2.0",
            "_view_name": "LayoutView",
            "align_content": null,
            "align_items": null,
            "align_self": null,
            "border": null,
            "bottom": null,
            "display": null,
            "flex": null,
            "flex_flow": null,
            "grid_area": null,
            "grid_auto_columns": null,
            "grid_auto_flow": null,
            "grid_auto_rows": null,
            "grid_column": null,
            "grid_gap": null,
            "grid_row": null,
            "grid_template_areas": null,
            "grid_template_columns": null,
            "grid_template_rows": null,
            "height": null,
            "justify_content": null,
            "justify_items": null,
            "left": null,
            "margin": null,
            "max_height": null,
            "max_width": null,
            "min_height": null,
            "min_width": null,
            "object_fit": null,
            "object_position": null,
            "order": null,
            "overflow": null,
            "overflow_x": null,
            "overflow_y": null,
            "padding": null,
            "right": null,
            "top": null,
            "visibility": null,
            "width": null
          }
        },
        "3e96d6e736444f4b9488d1291e5ed21e": {
          "model_module": "@jupyter-widgets/controls",
          "model_name": "DescriptionStyleModel",
          "model_module_version": "1.5.0",
          "state": {
            "_model_module": "@jupyter-widgets/controls",
            "_model_module_version": "1.5.0",
            "_model_name": "DescriptionStyleModel",
            "_view_count": null,
            "_view_module": "@jupyter-widgets/base",
            "_view_module_version": "1.2.0",
            "_view_name": "StyleView",
            "description_width": ""
          }
        },
        "00853c49f7d04a188c2e3181faf67181": {
          "model_module": "@jupyter-widgets/base",
          "model_name": "LayoutModel",
          "model_module_version": "1.2.0",
          "state": {
            "_model_module": "@jupyter-widgets/base",
            "_model_module_version": "1.2.0",
            "_model_name": "LayoutModel",
            "_view_count": null,
            "_view_module": "@jupyter-widgets/base",
            "_view_module_version": "1.2.0",
            "_view_name": "LayoutView",
            "align_content": null,
            "align_items": null,
            "align_self": null,
            "border": null,
            "bottom": null,
            "display": null,
            "flex": null,
            "flex_flow": null,
            "grid_area": null,
            "grid_auto_columns": null,
            "grid_auto_flow": null,
            "grid_auto_rows": null,
            "grid_column": null,
            "grid_gap": null,
            "grid_row": null,
            "grid_template_areas": null,
            "grid_template_columns": null,
            "grid_template_rows": null,
            "height": null,
            "justify_content": null,
            "justify_items": null,
            "left": null,
            "margin": null,
            "max_height": null,
            "max_width": null,
            "min_height": null,
            "min_width": null,
            "object_fit": null,
            "object_position": null,
            "order": null,
            "overflow": null,
            "overflow_x": null,
            "overflow_y": null,
            "padding": null,
            "right": null,
            "top": null,
            "visibility": null,
            "width": null
          }
        },
        "86a427b4943c4dffa7c16c9160238187": {
          "model_module": "@jupyter-widgets/controls",
          "model_name": "ProgressStyleModel",
          "model_module_version": "1.5.0",
          "state": {
            "_model_module": "@jupyter-widgets/controls",
            "_model_module_version": "1.5.0",
            "_model_name": "ProgressStyleModel",
            "_view_count": null,
            "_view_module": "@jupyter-widgets/base",
            "_view_module_version": "1.2.0",
            "_view_name": "StyleView",
            "bar_color": null,
            "description_width": ""
          }
        },
        "6c1f0fcc63104718b37a0e54da81a311": {
          "model_module": "@jupyter-widgets/base",
          "model_name": "LayoutModel",
          "model_module_version": "1.2.0",
          "state": {
            "_model_module": "@jupyter-widgets/base",
            "_model_module_version": "1.2.0",
            "_model_name": "LayoutModel",
            "_view_count": null,
            "_view_module": "@jupyter-widgets/base",
            "_view_module_version": "1.2.0",
            "_view_name": "LayoutView",
            "align_content": null,
            "align_items": null,
            "align_self": null,
            "border": null,
            "bottom": null,
            "display": null,
            "flex": null,
            "flex_flow": null,
            "grid_area": null,
            "grid_auto_columns": null,
            "grid_auto_flow": null,
            "grid_auto_rows": null,
            "grid_column": null,
            "grid_gap": null,
            "grid_row": null,
            "grid_template_areas": null,
            "grid_template_columns": null,
            "grid_template_rows": null,
            "height": null,
            "justify_content": null,
            "justify_items": null,
            "left": null,
            "margin": null,
            "max_height": null,
            "max_width": null,
            "min_height": null,
            "min_width": null,
            "object_fit": null,
            "object_position": null,
            "order": null,
            "overflow": null,
            "overflow_x": null,
            "overflow_y": null,
            "padding": null,
            "right": null,
            "top": null,
            "visibility": null,
            "width": null
          }
        },
        "36f0b0b444ee4b9983113d779ab5c130": {
          "model_module": "@jupyter-widgets/controls",
          "model_name": "DescriptionStyleModel",
          "model_module_version": "1.5.0",
          "state": {
            "_model_module": "@jupyter-widgets/controls",
            "_model_module_version": "1.5.0",
            "_model_name": "DescriptionStyleModel",
            "_view_count": null,
            "_view_module": "@jupyter-widgets/base",
            "_view_module_version": "1.2.0",
            "_view_name": "StyleView",
            "description_width": ""
          }
        }
      }
    }
  },
  "nbformat": 4,
  "nbformat_minor": 0
}